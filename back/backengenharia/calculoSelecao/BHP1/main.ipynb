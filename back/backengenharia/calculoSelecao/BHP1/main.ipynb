version https://git-lfs.github.com/spec/v1
oid sha256:febcf30848634656503640bafff3c1fe407928b172d9e7ebd4a1615065390f8f
size 4802717
