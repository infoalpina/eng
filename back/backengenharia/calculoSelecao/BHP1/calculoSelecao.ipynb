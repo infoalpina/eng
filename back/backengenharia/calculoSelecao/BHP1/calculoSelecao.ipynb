version https://git-lfs.github.com/spec/v1
oid sha256:462ee1b13f4c72a362291b3b404069d242e1603dbc8fa372fec3258545e1d3dc
size 402807
