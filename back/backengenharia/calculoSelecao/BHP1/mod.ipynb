{
 "cells": [
  {
   "cell_type": "code",
   "execution_count": null,
   "metadata": {},
   "outputs": [],
   "source": [
    "#---------------------------------------------------//--------------------------#\n",
    "'''Esse sisema assemelha-se bastante ao fronend aonde ocorre a coleta dos dados'''\n",
    "#---------------------------------------------------//--------------------------#\n"
   ]
  }
 ],
 "metadata": {
  "language_info": {
   "name": "python"
  }
 },
 "nbformat": 4,
 "nbformat_minor": 2
}
