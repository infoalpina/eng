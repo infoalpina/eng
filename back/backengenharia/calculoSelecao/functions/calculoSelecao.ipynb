version https://git-lfs.github.com/spec/v1
oid sha256:b0f045937864b8b1803a848333c4ee6099c6a65f212573b24ba4ece7157cf03b
size 1872298
