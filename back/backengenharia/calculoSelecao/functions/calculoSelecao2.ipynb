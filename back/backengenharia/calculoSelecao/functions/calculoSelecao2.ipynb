version https://git-lfs.github.com/spec/v1
oid sha256:8da678b75425e0bc31d5ce0fe9765656c529e0367ce5ebfbc35149d627d5cae7
size 399288
